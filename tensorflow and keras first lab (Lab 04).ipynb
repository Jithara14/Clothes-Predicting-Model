{
 "cells": [
  {
   "cell_type": "code",
   "execution_count": 1,
   "id": "0a7e97d5",
   "metadata": {},
   "outputs": [
    {
     "name": "stdout",
     "output_type": "stream",
     "text": [
      "Requirement already satisfied: tensorflow in c:\\users\\rusha\\anaconda3\\lib\\site-packages (2.17.0)\n",
      "Requirement already satisfied: tensorflow-intel==2.17.0 in c:\\users\\rusha\\anaconda3\\lib\\site-packages (from tensorflow) (2.17.0)\n",
      "Requirement already satisfied: protobuf!=4.21.0,!=4.21.1,!=4.21.2,!=4.21.3,!=4.21.4,!=4.21.5,<5.0.0dev,>=3.20.3 in c:\\users\\rusha\\anaconda3\\lib\\site-packages (from tensorflow-intel==2.17.0->tensorflow) (4.25.4)\n",
      "Requirement already satisfied: tensorflow-io-gcs-filesystem>=0.23.1 in c:\\users\\rusha\\anaconda3\\lib\\site-packages (from tensorflow-intel==2.17.0->tensorflow) (0.31.0)\n",
      "Requirement already satisfied: setuptools in c:\\users\\rusha\\anaconda3\\lib\\site-packages (from tensorflow-intel==2.17.0->tensorflow) (63.4.1)\n",
      "Requirement already satisfied: h5py>=3.10.0 in c:\\users\\rusha\\anaconda3\\lib\\site-packages (from tensorflow-intel==2.17.0->tensorflow) (3.11.0)\n",
      "Requirement already satisfied: numpy<2.0.0,>=1.23.5 in c:\\users\\rusha\\anaconda3\\lib\\site-packages (from tensorflow-intel==2.17.0->tensorflow) (1.26.4)\n",
      "Requirement already satisfied: keras>=3.2.0 in c:\\users\\rusha\\anaconda3\\lib\\site-packages (from tensorflow-intel==2.17.0->tensorflow) (3.5.0)\n",
      "Requirement already satisfied: six>=1.12.0 in c:\\users\\rusha\\anaconda3\\lib\\site-packages (from tensorflow-intel==2.17.0->tensorflow) (1.16.0)\n",
      "Requirement already satisfied: requests<3,>=2.21.0 in c:\\users\\rusha\\anaconda3\\lib\\site-packages (from tensorflow-intel==2.17.0->tensorflow) (2.28.1)\n",
      "Requirement already satisfied: absl-py>=1.0.0 in c:\\users\\rusha\\anaconda3\\lib\\site-packages (from tensorflow-intel==2.17.0->tensorflow) (2.1.0)\n",
      "Requirement already satisfied: google-pasta>=0.1.1 in c:\\users\\rusha\\anaconda3\\lib\\site-packages (from tensorflow-intel==2.17.0->tensorflow) (0.2.0)\n",
      "Requirement already satisfied: opt-einsum>=2.3.2 in c:\\users\\rusha\\anaconda3\\lib\\site-packages (from tensorflow-intel==2.17.0->tensorflow) (3.3.0)\n",
      "Requirement already satisfied: astunparse>=1.6.0 in c:\\users\\rusha\\anaconda3\\lib\\site-packages (from tensorflow-intel==2.17.0->tensorflow) (1.6.3)\n",
      "Requirement already satisfied: termcolor>=1.1.0 in c:\\users\\rusha\\anaconda3\\lib\\site-packages (from tensorflow-intel==2.17.0->tensorflow) (2.4.0)\n",
      "Requirement already satisfied: wrapt>=1.11.0 in c:\\users\\rusha\\anaconda3\\lib\\site-packages (from tensorflow-intel==2.17.0->tensorflow) (1.14.1)\n",
      "Requirement already satisfied: packaging in c:\\users\\rusha\\anaconda3\\lib\\site-packages (from tensorflow-intel==2.17.0->tensorflow) (21.3)\n",
      "Requirement already satisfied: typing-extensions>=3.6.6 in c:\\users\\rusha\\anaconda3\\lib\\site-packages (from tensorflow-intel==2.17.0->tensorflow) (4.12.2)\n",
      "Requirement already satisfied: gast!=0.5.0,!=0.5.1,!=0.5.2,>=0.2.1 in c:\\users\\rusha\\anaconda3\\lib\\site-packages (from tensorflow-intel==2.17.0->tensorflow) (0.6.0)\n",
      "Requirement already satisfied: flatbuffers>=24.3.25 in c:\\users\\rusha\\anaconda3\\lib\\site-packages (from tensorflow-intel==2.17.0->tensorflow) (24.3.25)\n",
      "Requirement already satisfied: tensorboard<2.18,>=2.17 in c:\\users\\rusha\\anaconda3\\lib\\site-packages (from tensorflow-intel==2.17.0->tensorflow) (2.17.1)\n",
      "Requirement already satisfied: ml-dtypes<0.5.0,>=0.3.1 in c:\\users\\rusha\\anaconda3\\lib\\site-packages (from tensorflow-intel==2.17.0->tensorflow) (0.4.0)\n",
      "Requirement already satisfied: libclang>=13.0.0 in c:\\users\\rusha\\anaconda3\\lib\\site-packages (from tensorflow-intel==2.17.0->tensorflow) (18.1.1)\n",
      "Requirement already satisfied: grpcio<2.0,>=1.24.3 in c:\\users\\rusha\\anaconda3\\lib\\site-packages (from tensorflow-intel==2.17.0->tensorflow) (1.65.5)\n",
      "Requirement already satisfied: wheel<1.0,>=0.23.0 in c:\\users\\rusha\\anaconda3\\lib\\site-packages (from astunparse>=1.6.0->tensorflow-intel==2.17.0->tensorflow) (0.37.1)\n",
      "Requirement already satisfied: optree in c:\\users\\rusha\\anaconda3\\lib\\site-packages (from keras>=3.2.0->tensorflow-intel==2.17.0->tensorflow) (0.12.1)\n",
      "Requirement already satisfied: rich in c:\\users\\rusha\\anaconda3\\lib\\site-packages (from keras>=3.2.0->tensorflow-intel==2.17.0->tensorflow) (13.7.1)\n",
      "Requirement already satisfied: namex in c:\\users\\rusha\\anaconda3\\lib\\site-packages (from keras>=3.2.0->tensorflow-intel==2.17.0->tensorflow) (0.0.8)\n",
      "Requirement already satisfied: idna<4,>=2.5 in c:\\users\\rusha\\anaconda3\\lib\\site-packages (from requests<3,>=2.21.0->tensorflow-intel==2.17.0->tensorflow) (3.3)\n",
      "Requirement already satisfied: charset-normalizer<3,>=2 in c:\\users\\rusha\\anaconda3\\lib\\site-packages (from requests<3,>=2.21.0->tensorflow-intel==2.17.0->tensorflow) (2.0.4)\n",
      "Requirement already satisfied: certifi>=2017.4.17 in c:\\users\\rusha\\anaconda3\\lib\\site-packages (from requests<3,>=2.21.0->tensorflow-intel==2.17.0->tensorflow) (2022.9.14)\n",
      "Requirement already satisfied: urllib3<1.27,>=1.21.1 in c:\\users\\rusha\\anaconda3\\lib\\site-packages (from requests<3,>=2.21.0->tensorflow-intel==2.17.0->tensorflow) (1.26.11)\n",
      "Requirement already satisfied: markdown>=2.6.8 in c:\\users\\rusha\\anaconda3\\lib\\site-packages (from tensorboard<2.18,>=2.17->tensorflow-intel==2.17.0->tensorflow) (3.3.4)\n",
      "Requirement already satisfied: tensorboard-data-server<0.8.0,>=0.7.0 in c:\\users\\rusha\\anaconda3\\lib\\site-packages (from tensorboard<2.18,>=2.17->tensorflow-intel==2.17.0->tensorflow) (0.7.2)\n",
      "Requirement already satisfied: werkzeug>=1.0.1 in c:\\users\\rusha\\anaconda3\\lib\\site-packages (from tensorboard<2.18,>=2.17->tensorflow-intel==2.17.0->tensorflow) (2.0.3)\n",
      "Requirement already satisfied: pyparsing!=3.0.5,>=2.0.2 in c:\\users\\rusha\\anaconda3\\lib\\site-packages (from packaging->tensorflow-intel==2.17.0->tensorflow) (3.0.9)\n",
      "Requirement already satisfied: markdown-it-py>=2.2.0 in c:\\users\\rusha\\anaconda3\\lib\\site-packages (from rich->keras>=3.2.0->tensorflow-intel==2.17.0->tensorflow) (3.0.0)\n",
      "Requirement already satisfied: pygments<3.0.0,>=2.13.0 in c:\\users\\rusha\\anaconda3\\lib\\site-packages (from rich->keras>=3.2.0->tensorflow-intel==2.17.0->tensorflow) (2.18.0)\n",
      "Requirement already satisfied: mdurl~=0.1 in c:\\users\\rusha\\anaconda3\\lib\\site-packages (from markdown-it-py>=2.2.0->rich->keras>=3.2.0->tensorflow-intel==2.17.0->tensorflow) (0.1.2)\n"
     ]
    }
   ],
   "source": [
    "!pip install tensorflow"
   ]
  },
  {
   "cell_type": "code",
   "execution_count": 2,
   "id": "dc568759",
   "metadata": {},
   "outputs": [
    {
     "name": "stderr",
     "output_type": "stream",
     "text": [
      "C:\\Users\\rusha\\anaconda3\\lib\\site-packages\\scipy\\__init__.py:155: UserWarning: A NumPy version >=1.18.5 and <1.25.0 is required for this version of SciPy (detected version 1.26.4\n",
      "  warnings.warn(f\"A NumPy version >={np_minversion} and <{np_maxversion}\"\n"
     ]
    },
    {
     "name": "stdout",
     "output_type": "stream",
     "text": [
      "<module 'tensorflow._api.v2.version' from 'C:\\\\Users\\\\rusha\\\\anaconda3\\\\lib\\\\site-packages\\\\tensorflow\\\\_api\\\\v2\\\\version\\\\__init__.py'>\n"
     ]
    }
   ],
   "source": [
    "import tensorflow as tf #tensor can store data in many dimensions\n",
    "print(tf.version)"
   ]
  },
  {
   "cell_type": "code",
   "execution_count": 3,
   "id": "8d804790",
   "metadata": {},
   "outputs": [],
   "source": [
    "string = tf.Variable(\"this is a string\",tf.string)\n",
    "number = tf.Variable(324)\n",
    "floating = tf.Variable(3.567,tf.float64)"
   ]
  },
  {
   "cell_type": "code",
   "execution_count": 4,
   "id": "c0a2d735",
   "metadata": {},
   "outputs": [
    {
     "data": {
      "text/plain": [
       "<tf.Variable 'Variable:0' shape=() dtype=string, numpy=b'this is a string'>"
      ]
     },
     "execution_count": 4,
     "metadata": {},
     "output_type": "execute_result"
    }
   ],
   "source": [
    "string"
   ]
  },
  {
   "cell_type": "code",
   "execution_count": 5,
   "id": "78056e35",
   "metadata": {},
   "outputs": [
    {
     "data": {
      "text/plain": [
       "<tf.Variable 'Variable:0' shape=() dtype=int32, numpy=324>"
      ]
     },
     "execution_count": 5,
     "metadata": {},
     "output_type": "execute_result"
    }
   ],
   "source": [
    "number"
   ]
  },
  {
   "cell_type": "code",
   "execution_count": 6,
   "id": "6caa13f7",
   "metadata": {},
   "outputs": [
    {
     "data": {
      "text/plain": [
       "<tf.Variable 'Variable:0' shape=() dtype=float32, numpy=3.567>"
      ]
     },
     "execution_count": 6,
     "metadata": {},
     "output_type": "execute_result"
    }
   ],
   "source": [
    "floating"
   ]
  },
  {
   "cell_type": "code",
   "execution_count": 7,
   "id": "3243e2e8",
   "metadata": {},
   "outputs": [],
   "source": [
    "rank1_tensor = tf.Variable([1,2,2])\n",
    "rank2_tensor = tf.Variable([[1,2],[3,4]])"
   ]
  },
  {
   "cell_type": "code",
   "execution_count": 8,
   "id": "341340e9",
   "metadata": {},
   "outputs": [
    {
     "data": {
      "text/plain": [
       "<tf.Tensor: shape=(), dtype=int32, numpy=2>"
      ]
     },
     "execution_count": 8,
     "metadata": {},
     "output_type": "execute_result"
    }
   ],
   "source": [
    "tf.rank(rank2_tensor)"
   ]
  },
  {
   "cell_type": "code",
   "execution_count": 12,
   "id": "31b450a2",
   "metadata": {},
   "outputs": [
    {
     "data": {
      "text/plain": [
       "<tf.Variable 'Variable:0' shape=(3,) dtype=int32, numpy=array([1, 2, 2])>"
      ]
     },
     "execution_count": 12,
     "metadata": {},
     "output_type": "execute_result"
    }
   ],
   "source": [
    "rank1_tensor #vector"
   ]
  },
  {
   "cell_type": "code",
   "execution_count": 13,
   "id": "ace84c2f",
   "metadata": {},
   "outputs": [
    {
     "data": {
      "text/plain": [
       "<tf.Variable 'Variable:0' shape=(2, 2) dtype=int32, numpy=\n",
       "array([[1, 2],\n",
       "       [3, 4]])>"
      ]
     },
     "execution_count": 13,
     "metadata": {},
     "output_type": "execute_result"
    }
   ],
   "source": [
    "rank2_tensor #metrix"
   ]
  },
  {
   "cell_type": "code",
   "execution_count": 14,
   "id": "33181ac6",
   "metadata": {},
   "outputs": [
    {
     "data": {
      "text/plain": [
       "<tf.Tensor: shape=(), dtype=int32, numpy=2>"
      ]
     },
     "execution_count": 14,
     "metadata": {},
     "output_type": "execute_result"
    }
   ],
   "source": [
    "#get the rank(means diamension)\n",
    "tf.rank(rank2_tensor)"
   ]
  },
  {
   "cell_type": "code",
   "execution_count": 15,
   "id": "892659f2",
   "metadata": {},
   "outputs": [
    {
     "data": {
      "text/plain": [
       "<tf.Tensor: shape=(), dtype=int32, numpy=1>"
      ]
     },
     "execution_count": 15,
     "metadata": {},
     "output_type": "execute_result"
    }
   ],
   "source": [
    "tf.rank(rank1_tensor)"
   ]
  },
  {
   "cell_type": "code",
   "execution_count": 16,
   "id": "732ba871",
   "metadata": {
    "scrolled": true
   },
   "outputs": [
    {
     "data": {
      "text/plain": [
       "<tf.Tensor: shape=(2, 2, 3), dtype=int32, numpy=\n",
       "array([[[1, 1, 1],\n",
       "        [2, 2, 2]],\n",
       "\n",
       "       [[3, 3, 3],\n",
       "        [4, 4, 4]]])>"
      ]
     },
     "execution_count": 16,
     "metadata": {},
     "output_type": "execute_result"
    }
   ],
   "source": [
    "rank3_tensor = t = tf.constant([[[1,1,1],[2,2,2]],[[3,3,3],[4,4,4]]]) #consider 2 list 2nd list is inside first list and eaach child lists have 3 elements\n",
    "rank3_tensor"
   ]
  },
  {
   "cell_type": "code",
   "execution_count": 17,
   "id": "b8547454",
   "metadata": {},
   "outputs": [
    {
     "data": {
      "text/plain": [
       "<tf.Tensor: shape=(), dtype=int32, numpy=3>"
      ]
     },
     "execution_count": 17,
     "metadata": {},
     "output_type": "execute_result"
    }
   ],
   "source": [
    "tf.rank(rank3_tensor)"
   ]
  },
  {
   "cell_type": "code",
   "execution_count": 18,
   "id": "f533a6d5",
   "metadata": {},
   "outputs": [
    {
     "data": {
      "text/plain": [
       "TensorShape([2, 2])"
      ]
     },
     "execution_count": 18,
     "metadata": {},
     "output_type": "execute_result"
    }
   ],
   "source": [
    "rank2_tensor.shape #consider rows and columns"
   ]
  },
  {
   "cell_type": "code",
   "execution_count": 19,
   "id": "3b767cc9",
   "metadata": {},
   "outputs": [
    {
     "data": {
      "text/plain": [
       "TensorShape([3])"
      ]
     },
     "execution_count": 19,
     "metadata": {},
     "output_type": "execute_result"
    }
   ],
   "source": [
    "rank1_tensor.shape #vector have three elements"
   ]
  },
  {
   "cell_type": "code",
   "execution_count": 20,
   "id": "5ded6a87",
   "metadata": {},
   "outputs": [
    {
     "data": {
      "text/plain": [
       "TensorShape([2, 2, 3])"
      ]
     },
     "execution_count": 20,
     "metadata": {},
     "output_type": "execute_result"
    }
   ],
   "source": [
    "rank3_tensor.shape"
   ]
  },
  {
   "cell_type": "code",
   "execution_count": 21,
   "id": "6c4f1c25",
   "metadata": {},
   "outputs": [],
   "source": [
    "tensor1 = tf.ones([1,2,3])\n",
    "tensor2 = tf.reshape(tensor1, [2,3,1]) #reshape existing data to shape [2,3,1]\n",
    "tensor3 = tf.reshape(tensor2,[3,-1]) #-1 tells the tensor to calculate the size of dimension in the place\n",
    "# this will reshape the tensor to [3,3]\n",
    "\n",
    "#the numer of elements in the reshaped tensor MUST the number in the original"
   ]
  },
  {
   "cell_type": "code",
   "execution_count": 22,
   "id": "b1ecb3f5",
   "metadata": {},
   "outputs": [
    {
     "name": "stdout",
     "output_type": "stream",
     "text": [
      "tf.Tensor(\n",
      "[[[1. 1. 1.]\n",
      "  [1. 1. 1.]]], shape=(1, 2, 3), dtype=float32)\n",
      "tf.Tensor(\n",
      "[[[1.]\n",
      "  [1.]\n",
      "  [1.]]\n",
      "\n",
      " [[1.]\n",
      "  [1.]\n",
      "  [1.]]], shape=(2, 3, 1), dtype=float32)\n",
      "tf.Tensor(\n",
      "[[1. 1.]\n",
      " [1. 1.]\n",
      " [1. 1.]], shape=(3, 2), dtype=float32)\n"
     ]
    }
   ],
   "source": [
    "print(tensor1)\n",
    "print(tensor2)\n",
    "print(tensor3)"
   ]
  },
  {
   "cell_type": "code",
   "execution_count": 24,
   "id": "a8b6e3a0",
   "metadata": {},
   "outputs": [
    {
     "name": "stdout",
     "output_type": "stream",
     "text": [
      "tf.Tensor(2, shape=(), dtype=int32)\n",
      "(3, 5)\n"
     ]
    }
   ],
   "source": [
    "# Creating a 2D tensor matrix = [[1,2,3,4,5],\n",
    "matrix = [[6,7,8,9,10],\n",
    "[11,12,13,14,15],\n",
    "[16,17,18,19,20]]\n",
    "tensor = tf.Variable(matrix, dtype=tf.int32) \n",
    "print(tf.rank(tensor))\n",
    "print(tensor.shape)"
   ]
  },
  {
   "cell_type": "code",
   "execution_count": 25,
   "id": "ebaa76c6",
   "metadata": {},
   "outputs": [
    {
     "data": {
      "text/plain": [
       "<tf.Variable 'Variable:0' shape=(3, 5) dtype=int32, numpy=\n",
       "array([[ 6,  7,  8,  9, 10],\n",
       "       [11, 12, 13, 14, 15],\n",
       "       [16, 17, 18, 19, 20]])>"
      ]
     },
     "execution_count": 25,
     "metadata": {},
     "output_type": "execute_result"
    }
   ],
   "source": [
    "tensor"
   ]
  },
  {
   "cell_type": "code",
   "execution_count": 26,
   "id": "e3603e0a",
   "metadata": {},
   "outputs": [
    {
     "name": "stdout",
     "output_type": "stream",
     "text": [
      "tf.Tensor(8, shape=(), dtype=int32)\n"
     ]
    }
   ],
   "source": [
    "three = tensor[0,2]\n",
    "print(three)"
   ]
  },
  {
   "cell_type": "code",
   "execution_count": 27,
   "id": "a0d4a6f2",
   "metadata": {},
   "outputs": [
    {
     "name": "stdout",
     "output_type": "stream",
     "text": [
      "tf.Tensor([ 6  7  8  9 10], shape=(5,), dtype=int32)\n"
     ]
    }
   ],
   "source": [
    "row1 = tensor[0]\n",
    "print(row1)"
   ]
  },
  {
   "cell_type": "code",
   "execution_count": 30,
   "id": "d3455e29",
   "metadata": {},
   "outputs": [
    {
     "name": "stdout",
     "output_type": "stream",
     "text": [
      "tf.Tensor([ 6 11 16], shape=(3,), dtype=int32)\n"
     ]
    }
   ],
   "source": [
    "column1 = tensor[:,0]\n",
    "print(column1)"
   ]
  },
  {
   "cell_type": "code",
   "execution_count": 31,
   "id": "736b9bd0",
   "metadata": {},
   "outputs": [
    {
     "name": "stdout",
     "output_type": "stream",
     "text": [
      "tf.Tensor([11 16], shape=(2,), dtype=int32)\n"
     ]
    }
   ],
   "source": [
    "column_1_in_row_2_and_3 = tensor[1:3,0]\n",
    "print(column_1_in_row_2_and_3)"
   ]
  },
  {
   "cell_type": "code",
   "execution_count": 33,
   "id": "50167dcc",
   "metadata": {},
   "outputs": [
    {
     "data": {
      "text/plain": [
       "<tf.Tensor: shape=(8,), dtype=int32, numpy=array([0, 1, 2, 3, 4, 5, 6, 7])>"
      ]
     },
     "execution_count": 33,
     "metadata": {},
     "output_type": "execute_result"
    }
   ],
   "source": [
    "t1 = tf.constant([0,1,2,3,4,5,6,7]) #constant tensor\n",
    "t1"
   ]
  },
  {
   "cell_type": "code",
   "execution_count": 34,
   "id": "4e8a9233",
   "metadata": {},
   "outputs": [
    {
     "data": {
      "text/plain": [
       "<tf.Tensor: shape=(1, 5), dtype=int32, numpy=array([[11, 12, 13, 14, 15]])>"
      ]
     },
     "execution_count": 34,
     "metadata": {},
     "output_type": "execute_result"
    }
   ],
   "source": [
    "tensor[1::2]"
   ]
  },
  {
   "cell_type": "code",
   "execution_count": 35,
   "id": "88c7e657",
   "metadata": {},
   "outputs": [],
   "source": [
    "#variable tensor change the values"
   ]
  },
  {
   "cell_type": "code",
   "execution_count": 36,
   "id": "27791621",
   "metadata": {},
   "outputs": [],
   "source": [
    "#tensorflow and tf.keras\n",
    "import tensorflow as tf\n",
    "from tensorflow import keras\n",
    "\n",
    "#helper libraries\n",
    "import numpy as np\n",
    "import matplotlib.pyplot as plt"
   ]
  },
  {
   "cell_type": "code",
   "execution_count": 39,
   "id": "2ef7ee5d",
   "metadata": {},
   "outputs": [
    {
     "name": "stdout",
     "output_type": "stream",
     "text": [
      "Downloading data from https://storage.googleapis.com/tensorflow/tf-keras-datasets/train-labels-idx1-ubyte.gz\n",
      "\u001b[1m29515/29515\u001b[0m \u001b[32m━━━━━━━━━━━━━━━━━━━━\u001b[0m\u001b[37m\u001b[0m \u001b[1m0s\u001b[0m 4us/step\n",
      "Downloading data from https://storage.googleapis.com/tensorflow/tf-keras-datasets/train-images-idx3-ubyte.gz\n",
      "\u001b[1m26421880/26421880\u001b[0m \u001b[32m━━━━━━━━━━━━━━━━━━━━\u001b[0m\u001b[37m\u001b[0m \u001b[1m34s\u001b[0m 1us/step\n",
      "Downloading data from https://storage.googleapis.com/tensorflow/tf-keras-datasets/t10k-labels-idx1-ubyte.gz\n",
      "\u001b[1m5148/5148\u001b[0m \u001b[32m━━━━━━━━━━━━━━━━━━━━\u001b[0m\u001b[37m\u001b[0m \u001b[1m0s\u001b[0m 0s/step\n",
      "Downloading data from https://storage.googleapis.com/tensorflow/tf-keras-datasets/t10k-images-idx3-ubyte.gz\n",
      "\u001b[1m4422102/4422102\u001b[0m \u001b[32m━━━━━━━━━━━━━━━━━━━━\u001b[0m\u001b[37m\u001b[0m \u001b[1m6s\u001b[0m 1us/step\n",
      "Training data shape: (60000, 28, 28)\n",
      "Training labels shape: (60000,)\n",
      "Test data shape: (10000, 28, 28)\n",
      "Test labels shape: (10000,)\n"
     ]
    }
   ],
   "source": [
    "import os\n",
    "import shutil\n",
    "import tensorflow as tf\n",
    "from tensorflow import keras\n",
    "\n",
    "# Clear the dataset cache\n",
    "cache_dir = os.path.expanduser(os.path.join(\"~\", \".keras\", \"datasets\", \"fashion-mnist\"))\n",
    "if os.path.exists(cache_dir):\n",
    "    shutil.rmtree(cache_dir)\n",
    "\n",
    "# Load the Fashion MNIST dataset\n",
    "fashion_mnist = keras.datasets.fashion_mnist\n",
    "(train_images, train_labels), (test_images, test_labels) = fashion_mnist.load_data()\n",
    "\n",
    "# The dataset should now load without any errors\n",
    "print(\"Training data shape:\", train_images.shape)\n",
    "print(\"Training labels shape:\", train_labels.shape)\n",
    "print(\"Test data shape:\", test_images.shape)\n",
    "print(\"Test labels shape:\", test_labels.shape)\n"
   ]
  },
  {
   "cell_type": "code",
   "execution_count": 122,
   "id": "0ae2e336",
   "metadata": {},
   "outputs": [
    {
     "data": {
      "text/plain": [
       "(60000, 28, 28)"
      ]
     },
     "execution_count": 122,
     "metadata": {},
     "output_type": "execute_result"
    }
   ],
   "source": [
    "train_images.shape # metrix with 28*28 contains one image then create a image by 60000 matrixes"
   ]
  },
  {
   "cell_type": "code",
   "execution_count": 123,
   "id": "6619aa1b",
   "metadata": {},
   "outputs": [
    {
     "data": {
      "text/plain": [
       "array([[0.00000000e+00, 0.00000000e+00, 0.00000000e+00, 0.00000000e+00,\n",
       "        0.00000000e+00, 0.00000000e+00, 0.00000000e+00, 0.00000000e+00,\n",
       "        0.00000000e+00, 0.00000000e+00, 0.00000000e+00, 0.00000000e+00,\n",
       "        0.00000000e+00, 0.00000000e+00, 0.00000000e+00, 0.00000000e+00,\n",
       "        0.00000000e+00, 0.00000000e+00, 0.00000000e+00, 0.00000000e+00,\n",
       "        0.00000000e+00, 0.00000000e+00, 0.00000000e+00, 0.00000000e+00,\n",
       "        0.00000000e+00, 0.00000000e+00, 0.00000000e+00, 0.00000000e+00],\n",
       "       [0.00000000e+00, 0.00000000e+00, 0.00000000e+00, 0.00000000e+00,\n",
       "        0.00000000e+00, 0.00000000e+00, 0.00000000e+00, 0.00000000e+00,\n",
       "        0.00000000e+00, 0.00000000e+00, 0.00000000e+00, 0.00000000e+00,\n",
       "        0.00000000e+00, 0.00000000e+00, 0.00000000e+00, 0.00000000e+00,\n",
       "        0.00000000e+00, 0.00000000e+00, 0.00000000e+00, 0.00000000e+00,\n",
       "        0.00000000e+00, 0.00000000e+00, 0.00000000e+00, 0.00000000e+00,\n",
       "        0.00000000e+00, 0.00000000e+00, 0.00000000e+00, 0.00000000e+00],\n",
       "       [0.00000000e+00, 0.00000000e+00, 0.00000000e+00, 0.00000000e+00,\n",
       "        0.00000000e+00, 0.00000000e+00, 0.00000000e+00, 0.00000000e+00,\n",
       "        0.00000000e+00, 0.00000000e+00, 0.00000000e+00, 0.00000000e+00,\n",
       "        0.00000000e+00, 0.00000000e+00, 0.00000000e+00, 0.00000000e+00,\n",
       "        0.00000000e+00, 0.00000000e+00, 0.00000000e+00, 0.00000000e+00,\n",
       "        0.00000000e+00, 0.00000000e+00, 0.00000000e+00, 0.00000000e+00,\n",
       "        0.00000000e+00, 0.00000000e+00, 0.00000000e+00, 0.00000000e+00],\n",
       "       [0.00000000e+00, 0.00000000e+00, 0.00000000e+00, 0.00000000e+00,\n",
       "        0.00000000e+00, 0.00000000e+00, 0.00000000e+00, 0.00000000e+00,\n",
       "        0.00000000e+00, 0.00000000e+00, 0.00000000e+00, 0.00000000e+00,\n",
       "        2.36504429e-10, 0.00000000e+00, 0.00000000e+00, 3.07455758e-09,\n",
       "        1.72648233e-08, 0.00000000e+00, 0.00000000e+00, 2.36504429e-10,\n",
       "        9.46017716e-10, 0.00000000e+00, 0.00000000e+00, 0.00000000e+00,\n",
       "        0.00000000e+00, 2.36504429e-10, 2.36504429e-10, 0.00000000e+00],\n",
       "       [0.00000000e+00, 0.00000000e+00, 0.00000000e+00, 0.00000000e+00,\n",
       "        0.00000000e+00, 0.00000000e+00, 0.00000000e+00, 0.00000000e+00,\n",
       "        0.00000000e+00, 0.00000000e+00, 0.00000000e+00, 0.00000000e+00,\n",
       "        7.09513287e-10, 0.00000000e+00, 8.51415945e-09, 3.21646024e-08,\n",
       "        3.00360625e-08, 1.46632746e-08, 1.27712392e-08, 0.00000000e+00,\n",
       "        0.00000000e+00, 0.00000000e+00, 2.36504429e-10, 7.09513287e-10,\n",
       "        9.46017716e-10, 0.00000000e+00, 0.00000000e+00, 7.09513287e-10],\n",
       "       [0.00000000e+00, 0.00000000e+00, 0.00000000e+00, 0.00000000e+00,\n",
       "        0.00000000e+00, 0.00000000e+00, 0.00000000e+00, 0.00000000e+00,\n",
       "        0.00000000e+00, 0.00000000e+00, 0.00000000e+00, 0.00000000e+00,\n",
       "        1.41902657e-09, 0.00000000e+00, 2.41234518e-08, 4.82469035e-08,\n",
       "        4.16247795e-08, 3.16915935e-08, 3.40566378e-08, 2.90900448e-08,\n",
       "        5.43960187e-09, 0.00000000e+00, 0.00000000e+00, 0.00000000e+00,\n",
       "        0.00000000e+00, 2.83805315e-09, 2.36504429e-09, 0.00000000e+00],\n",
       "       [0.00000000e+00, 0.00000000e+00, 0.00000000e+00, 0.00000000e+00,\n",
       "        0.00000000e+00, 0.00000000e+00, 0.00000000e+00, 0.00000000e+00,\n",
       "        0.00000000e+00, 0.00000000e+00, 0.00000000e+00, 0.00000000e+00,\n",
       "        0.00000000e+00, 0.00000000e+00, 3.66581865e-08, 5.58150453e-08,\n",
       "        4.89564168e-08, 4.20977884e-08, 2.53059739e-08, 3.68946909e-08,\n",
       "        3.80772131e-08, 2.57789828e-08, 1.51362835e-08, 5.43960187e-09,\n",
       "        1.82108410e-08, 3.07455758e-08, 1.70283189e-08, 3.54756644e-09],\n",
       "       [0.00000000e+00, 0.00000000e+00, 0.00000000e+00, 0.00000000e+00,\n",
       "        0.00000000e+00, 0.00000000e+00, 0.00000000e+00, 0.00000000e+00,\n",
       "        0.00000000e+00, 0.00000000e+00, 0.00000000e+00, 2.36504429e-10,\n",
       "        0.00000000e+00, 1.63188056e-08, 4.89564168e-08, 5.27404877e-08,\n",
       "        5.15579655e-08, 5.10849567e-08, 5.10849567e-08, 3.85502219e-08,\n",
       "        3.00360625e-08, 2.86170359e-08, 2.88535403e-08, 3.45296466e-08,\n",
       "        3.33471245e-08, 2.08123898e-08, 4.06787618e-08, 1.56092923e-08],\n",
       "       [0.00000000e+00, 0.00000000e+00, 0.00000000e+00, 0.00000000e+00,\n",
       "        0.00000000e+00, 0.00000000e+00, 0.00000000e+00, 0.00000000e+00,\n",
       "        0.00000000e+00, 2.36504429e-10, 2.36504429e-10, 2.36504429e-10,\n",
       "        0.00000000e+00, 4.73008858e-08, 5.48690275e-08, 5.48690275e-08,\n",
       "        5.51055320e-08, 5.41595143e-08, 5.27404877e-08, 5.27404877e-08,\n",
       "        5.08484522e-08, 5.03754434e-08, 3.87867264e-08, 3.00360625e-08,\n",
       "        2.90900448e-08, 4.63548681e-08, 5.41595143e-08, 0.00000000e+00],\n",
       "       [0.00000000e+00, 0.00000000e+00, 0.00000000e+00, 0.00000000e+00,\n",
       "        0.00000000e+00, 0.00000000e+00, 0.00000000e+00, 0.00000000e+00,\n",
       "        0.00000000e+00, 0.00000000e+00, 0.00000000e+00, 0.00000000e+00,\n",
       "        0.00000000e+00, 4.32803105e-08, 5.32134965e-08, 5.10849567e-08,\n",
       "        5.27404877e-08, 5.39230098e-08, 5.55785408e-08, 5.36865054e-08,\n",
       "        5.29769921e-08, 5.25039833e-08, 5.29769921e-08, 5.22674788e-08,\n",
       "        5.27404877e-08, 5.79435851e-08, 4.09152662e-08, 0.00000000e+00],\n",
       "       [0.00000000e+00, 0.00000000e+00, 0.00000000e+00, 0.00000000e+00,\n",
       "        0.00000000e+00, 0.00000000e+00, 0.00000000e+00, 0.00000000e+00,\n",
       "        0.00000000e+00, 0.00000000e+00, 0.00000000e+00, 0.00000000e+00,\n",
       "        0.00000000e+00, 4.56453548e-08, 5.39230098e-08, 5.15579655e-08,\n",
       "        5.03754434e-08, 4.68278770e-08, 4.25707972e-08, 5.01389390e-08,\n",
       "        4.96659301e-08, 4.99024345e-08, 5.03754434e-08, 5.27404877e-08,\n",
       "        5.20309744e-08, 5.74705763e-08, 4.77738947e-08, 0.00000000e+00],\n",
       "       [0.00000000e+00, 0.00000000e+00, 0.00000000e+00, 0.00000000e+00,\n",
       "        0.00000000e+00, 0.00000000e+00, 0.00000000e+00, 0.00000000e+00,\n",
       "        0.00000000e+00, 2.36504429e-10, 7.09513287e-10, 0.00000000e+00,\n",
       "        2.83805315e-09, 5.17944700e-08, 5.20309744e-08, 5.01389390e-08,\n",
       "        5.15579655e-08, 4.54088504e-08, 3.99692485e-08, 5.36865054e-08,\n",
       "        4.91929212e-08, 5.15579655e-08, 5.29769921e-08, 5.01389390e-08,\n",
       "        5.34500010e-08, 4.65913725e-08, 4.94294257e-08, 1.22982303e-08],\n",
       "       [0.00000000e+00, 0.00000000e+00, 0.00000000e+00, 0.00000000e+00,\n",
       "        0.00000000e+00, 0.00000000e+00, 0.00000000e+00, 0.00000000e+00,\n",
       "        0.00000000e+00, 0.00000000e+00, 1.41902657e-09, 0.00000000e+00,\n",
       "        2.34139385e-08, 5.77070807e-08, 5.25039833e-08, 5.20309744e-08,\n",
       "        5.15579655e-08, 4.80103991e-08, 4.68278770e-08, 5.22674788e-08,\n",
       "        5.08484522e-08, 5.03754434e-08, 5.25039833e-08, 5.20309744e-08,\n",
       "        5.79435851e-08, 2.81440271e-08, 3.94962397e-08, 1.32442480e-08],\n",
       "       [0.00000000e+00, 0.00000000e+00, 0.00000000e+00, 0.00000000e+00,\n",
       "        0.00000000e+00, 0.00000000e+00, 0.00000000e+00, 0.00000000e+00,\n",
       "        0.00000000e+00, 9.46017716e-10, 0.00000000e+00, 0.00000000e+00,\n",
       "        1.30077436e-08, 5.58150453e-08, 5.39230098e-08, 5.43960187e-08,\n",
       "        5.39230098e-08, 5.67610630e-08, 5.48690275e-08, 5.03754434e-08,\n",
       "        5.15579655e-08, 5.27404877e-08, 5.53420364e-08, 5.13214611e-08,\n",
       "        5.13214611e-08, 4.94294257e-08, 2.17584075e-08, 0.00000000e+00],\n",
       "       [0.00000000e+00, 0.00000000e+00, 2.36504429e-10, 9.46017716e-10,\n",
       "        1.41902657e-09, 1.65553100e-09, 4.73008858e-10, 0.00000000e+00,\n",
       "        0.00000000e+00, 0.00000000e+00, 0.00000000e+00, 0.00000000e+00,\n",
       "        5.60515497e-08, 5.34500010e-08, 5.13214611e-08, 5.27404877e-08,\n",
       "        5.25039833e-08, 5.17944700e-08, 5.25039833e-08, 5.22674788e-08,\n",
       "        5.10849567e-08, 5.27404877e-08, 5.41595143e-08, 5.08484522e-08,\n",
       "        5.15579655e-08, 6.03086294e-08, 1.82108410e-08, 0.00000000e+00],\n",
       "       [0.00000000e+00, 7.09513287e-10, 0.00000000e+00, 0.00000000e+00,\n",
       "        0.00000000e+00, 0.00000000e+00, 0.00000000e+00, 0.00000000e+00,\n",
       "        0.00000000e+00, 1.46632746e-08, 3.42931422e-08, 4.82469035e-08,\n",
       "        5.39230098e-08, 4.89564168e-08, 5.03754434e-08, 5.22674788e-08,\n",
       "        5.15579655e-08, 4.91929212e-08, 4.99024345e-08, 5.15579655e-08,\n",
       "        5.29769921e-08, 5.27404877e-08, 5.17944700e-08, 5.08484522e-08,\n",
       "        5.29769921e-08, 5.77070807e-08, 3.76042042e-08, 0.00000000e+00],\n",
       "       [0.00000000e+00, 0.00000000e+00, 0.00000000e+00, 0.00000000e+00,\n",
       "        4.25707972e-09, 1.04061949e-08, 1.93933632e-08, 2.53059739e-08,\n",
       "        4.46993371e-08, 5.39230098e-08, 5.20309744e-08, 5.25039833e-08,\n",
       "        5.13214611e-08, 5.34500010e-08, 4.73008858e-08, 4.84834080e-08,\n",
       "        4.99024345e-08, 5.43960187e-08, 5.29769921e-08, 5.53420364e-08,\n",
       "        4.16247795e-08, 4.44628327e-08, 5.91261073e-08, 5.86530984e-08,\n",
       "        5.51055320e-08, 5.62880541e-08, 5.08484522e-08, 0.00000000e+00],\n",
       "       [0.00000000e+00, 1.34807525e-08, 4.42263282e-08, 4.91929212e-08,\n",
       "        5.29769921e-08, 5.22674788e-08, 5.29769921e-08, 4.91929212e-08,\n",
       "        4.82469035e-08, 5.06119478e-08, 4.91929212e-08, 4.94294257e-08,\n",
       "        4.73008858e-08, 3.76042042e-08, 5.79435851e-08, 4.56453548e-08,\n",
       "        4.87199124e-08, 5.27404877e-08, 6.03086294e-08, 6.03086294e-08,\n",
       "        5.22674788e-08, 5.53420364e-08, 5.22674788e-08, 4.99024345e-08,\n",
       "        5.20309744e-08, 5.48690275e-08, 5.81800895e-08, 0.00000000e+00],\n",
       "       [7.09513287e-10, 4.77738947e-08, 5.39230098e-08, 5.29769921e-08,\n",
       "        5.22674788e-08, 4.99024345e-08, 4.99024345e-08, 5.06119478e-08,\n",
       "        4.84834080e-08, 4.84834080e-08, 4.84834080e-08, 5.20309744e-08,\n",
       "        5.67610630e-08, 1.89203543e-08, 3.54756644e-08, 6.03086294e-08,\n",
       "        5.41595143e-08, 5.22674788e-08, 4.44628327e-08, 3.64216821e-08,\n",
       "        4.51723460e-08, 4.96659301e-08, 4.82469035e-08, 4.94294257e-08,\n",
       "        5.25039833e-08, 5.39230098e-08, 5.32134965e-08, 0.00000000e+00],\n",
       "       [2.31774340e-08, 5.51055320e-08, 4.68278770e-08, 4.96659301e-08,\n",
       "        5.25039833e-08, 5.41595143e-08, 5.41595143e-08, 5.53420364e-08,\n",
       "        5.88896028e-08, 5.20309744e-08, 4.58818592e-08, 5.08484522e-08,\n",
       "        5.13214611e-08, 5.69975674e-08, 1.53727879e-08, 1.72648233e-08,\n",
       "        2.50694695e-08, 2.76710182e-08, 3.97327441e-08, 5.17944700e-08,\n",
       "        5.22674788e-08, 5.08484522e-08, 5.13214611e-08, 5.27404877e-08,\n",
       "        5.27404877e-08, 5.29769921e-08, 5.41595143e-08, 6.85862844e-09],\n",
       "       [1.77378322e-08, 4.82469035e-08, 5.01389390e-08, 4.82469035e-08,\n",
       "        4.56453548e-08, 4.84834080e-08, 4.99024345e-08, 5.32134965e-08,\n",
       "        5.10849567e-08, 4.37533194e-08, 4.65913725e-08, 4.87199124e-08,\n",
       "        4.68278770e-08, 5.03754434e-08, 5.67610630e-08, 4.61183637e-08,\n",
       "        5.36865054e-08, 5.79435851e-08, 5.65245585e-08, 5.27404877e-08,\n",
       "        5.15579655e-08, 5.01389390e-08, 4.94294257e-08, 5.25039833e-08,\n",
       "        5.20309744e-08, 5.22674788e-08, 5.43960187e-08, 1.58457967e-08],\n",
       "       [1.13522126e-08, 4.80103991e-08, 4.32803105e-08, 4.58818592e-08,\n",
       "        5.03754434e-08, 4.65913725e-08, 4.37533194e-08, 4.49358415e-08,\n",
       "        4.58818592e-08, 4.54088504e-08, 4.77738947e-08, 5.06119478e-08,\n",
       "        5.17944700e-08, 5.22674788e-08, 5.20309744e-08, 5.58150453e-08,\n",
       "        5.32134965e-08, 5.10849567e-08, 4.70643814e-08, 4.87199124e-08,\n",
       "        4.39898238e-08, 4.28073017e-08, 4.18612839e-08, 4.06787618e-08,\n",
       "        4.28073017e-08, 4.84834080e-08, 4.87199124e-08, 2.71980093e-08],\n",
       "       [0.00000000e+00, 2.88535403e-08, 5.17944700e-08, 4.56453548e-08,\n",
       "        4.23342928e-08, 4.04422574e-08, 4.32803105e-08, 4.63548681e-08,\n",
       "        4.82469035e-08, 4.96659301e-08, 5.03754434e-08, 4.89564168e-08,\n",
       "        4.99024345e-08, 4.96659301e-08, 4.73008858e-08, 4.63548681e-08,\n",
       "        4.58818592e-08, 4.51723460e-08, 4.61183637e-08, 4.51723460e-08,\n",
       "        4.68278770e-08, 4.54088504e-08, 4.16247795e-08, 3.68946909e-08,\n",
       "        3.94962397e-08, 4.18612839e-08, 4.96659301e-08, 2.17584075e-08],\n",
       "       [0.00000000e+00, 0.00000000e+00, 1.75013278e-08, 4.46993371e-08,\n",
       "        5.01389390e-08, 4.51723460e-08, 4.13882751e-08, 4.06787618e-08,\n",
       "        4.13882751e-08, 4.28073017e-08, 4.37533194e-08, 4.44628327e-08,\n",
       "        4.46993371e-08, 4.44628327e-08, 4.56453548e-08, 4.68278770e-08,\n",
       "        4.82469035e-08, 4.94294257e-08, 4.96659301e-08, 4.96659301e-08,\n",
       "        4.99024345e-08, 4.44628327e-08, 4.44628327e-08, 4.58818592e-08,\n",
       "        4.54088504e-08, 5.10849567e-08, 4.02057529e-08, 0.00000000e+00],\n",
       "       [4.73008858e-10, 0.00000000e+00, 0.00000000e+00, 0.00000000e+00,\n",
       "        1.56092923e-08, 4.73008858e-08, 5.25039833e-08, 5.60515497e-08,\n",
       "        5.65245585e-08, 5.72340718e-08, 5.81800895e-08, 5.74705763e-08,\n",
       "        5.77070807e-08, 5.22674788e-08, 5.20309744e-08, 4.56453548e-08,\n",
       "        4.51723460e-08, 4.23342928e-08, 4.30438061e-08, 4.30438061e-08,\n",
       "        4.28073017e-08, 4.16247795e-08, 3.92597352e-08, 3.97327441e-08,\n",
       "        2.34139385e-08, 1.37172569e-08, 0.00000000e+00, 0.00000000e+00],\n",
       "       [0.00000000e+00, 0.00000000e+00, 0.00000000e+00, 0.00000000e+00,\n",
       "        0.00000000e+00, 0.00000000e+00, 0.00000000e+00, 9.46017716e-09,\n",
       "        1.44267702e-08, 1.04061949e-08, 1.70283189e-08, 9.69668159e-09,\n",
       "        8.27765502e-09, 0.00000000e+00, 0.00000000e+00, 0.00000000e+00,\n",
       "        0.00000000e+00, 0.00000000e+00, 0.00000000e+00, 0.00000000e+00,\n",
       "        0.00000000e+00, 0.00000000e+00, 0.00000000e+00, 0.00000000e+00,\n",
       "        0.00000000e+00, 0.00000000e+00, 0.00000000e+00, 0.00000000e+00],\n",
       "       [0.00000000e+00, 0.00000000e+00, 0.00000000e+00, 0.00000000e+00,\n",
       "        0.00000000e+00, 0.00000000e+00, 0.00000000e+00, 0.00000000e+00,\n",
       "        0.00000000e+00, 0.00000000e+00, 0.00000000e+00, 0.00000000e+00,\n",
       "        0.00000000e+00, 0.00000000e+00, 0.00000000e+00, 0.00000000e+00,\n",
       "        0.00000000e+00, 0.00000000e+00, 0.00000000e+00, 0.00000000e+00,\n",
       "        0.00000000e+00, 0.00000000e+00, 0.00000000e+00, 0.00000000e+00,\n",
       "        0.00000000e+00, 0.00000000e+00, 0.00000000e+00, 0.00000000e+00],\n",
       "       [0.00000000e+00, 0.00000000e+00, 0.00000000e+00, 0.00000000e+00,\n",
       "        0.00000000e+00, 0.00000000e+00, 0.00000000e+00, 0.00000000e+00,\n",
       "        0.00000000e+00, 0.00000000e+00, 0.00000000e+00, 0.00000000e+00,\n",
       "        0.00000000e+00, 0.00000000e+00, 0.00000000e+00, 0.00000000e+00,\n",
       "        0.00000000e+00, 0.00000000e+00, 0.00000000e+00, 0.00000000e+00,\n",
       "        0.00000000e+00, 0.00000000e+00, 0.00000000e+00, 0.00000000e+00,\n",
       "        0.00000000e+00, 0.00000000e+00, 0.00000000e+00, 0.00000000e+00]])"
      ]
     },
     "execution_count": 123,
     "metadata": {},
     "output_type": "execute_result"
    }
   ],
   "source": [
    "train_images[0]"
   ]
  },
  {
   "cell_type": "code",
   "execution_count": 124,
   "id": "ad327acb",
   "metadata": {},
   "outputs": [
    {
     "data": {
      "text/plain": [
       "1.9866372041274162e-08"
      ]
     },
     "execution_count": 124,
     "metadata": {},
     "output_type": "execute_result"
    }
   ],
   "source": [
    "train_images[54,23,23]  #let's have a look at one pixel(23, 23, 54 th image)"
   ]
  },
  {
   "cell_type": "code",
   "execution_count": 125,
   "id": "88db4bfa",
   "metadata": {},
   "outputs": [
    {
     "data": {
      "text/plain": [
       "array([9, 0, 0, 3, 0, 2, 7, 2, 5, 5], dtype=uint8)"
      ]
     },
     "execution_count": 125,
     "metadata": {},
     "output_type": "execute_result"
    }
   ],
   "source": [
    "train_labels[:10]#let's have a look at the first 10 training labels (9,0,3 means costume types)"
   ]
  },
  {
   "cell_type": "code",
   "execution_count": 126,
   "id": "761ce877",
   "metadata": {},
   "outputs": [
    {
     "data": {
      "image/png": "[encoded data removed]",
      "text/plain": [
       "<Figure size 640x480 with 2 Axes>"
      ]
     },
     "metadata": {},
     "output_type": "display_data"
    }
   ],
   "source": [
    "plt.figure()\n",
    "plt.imshow(train_images[59999])\n",
    "plt.colorbar()\n",
    "plt.grid(False)\n",
    "plt.show()"
   ]
  },
  {
   "cell_type": "code",
   "execution_count": 127,
   "id": "4561ec1e",
   "metadata": {},
   "outputs": [],
   "source": [
    "train_images = train_images / 255.0\n",
    "test_images = test_images / 255.0 # we do this because 255*255 gets large image then its become very complicated, that way divide into 255\n"
   ]
  },
  {
   "cell_type": "code",
   "execution_count": 128,
   "id": "a302db30",
   "metadata": {},
   "outputs": [],
   "source": [
    "#build a model, feedforward neural networks\n",
    "\n",
    "model = keras.Sequential([\n",
    "    keras.layers.Flatten(input_shape=(28,28)), #input layer (1) (28*28)nurons have\n",
    "    keras.layers.Dense(128,activation='relu'), #hidden layer (2) 128 nurons\n",
    "    #keras.layers.Dense(128,activation='relu'), can use other layer also\n",
    "    keras.layers.Dense(10,activation='softmax'), #output layer (3) 10 output neurons\n",
    "])"
   ]
  },
  {
   "cell_type": "code",
   "execution_count": 129,
   "id": "0db216a5",
   "metadata": {},
   "outputs": [
    {
     "name": "stdout",
     "output_type": "stream",
     "text": [
      "Epoch 1/10\n",
      "\u001b[1m1875/1875\u001b[0m \u001b[32m━━━━━━━━━━━━━━━━━━━━\u001b[0m\u001b[37m\u001b[0m \u001b[1m9s\u001b[0m 4ms/step - accuracy: 0.0980 - loss: 2.3028 - val_accuracy: 0.1000 - val_loss: 2.3026\n",
      "Epoch 2/10\n",
      "\u001b[1m1875/1875\u001b[0m \u001b[32m━━━━━━━━━━━━━━━━━━━━\u001b[0m\u001b[37m\u001b[0m \u001b[1m7s\u001b[0m 4ms/step - accuracy: 0.0973 - loss: 2.3027 - val_accuracy: 0.1000 - val_loss: 2.3026\n",
      "Epoch 3/10\n",
      "\u001b[1m1875/1875\u001b[0m \u001b[32m━━━━━━━━━━━━━━━━━━━━\u001b[0m\u001b[37m\u001b[0m \u001b[1m7s\u001b[0m 4ms/step - accuracy: 0.0949 - loss: 2.3028 - val_accuracy: 0.1000 - val_loss: 2.3027\n",
      "Epoch 4/10\n",
      "\u001b[1m1875/1875\u001b[0m \u001b[32m━━━━━━━━━━━━━━━━━━━━\u001b[0m\u001b[37m\u001b[0m \u001b[1m7s\u001b[0m 4ms/step - accuracy: 0.1010 - loss: 2.3027 - val_accuracy: 0.1000 - val_loss: 2.3027\n",
      "Epoch 5/10\n",
      "\u001b[1m1875/1875\u001b[0m \u001b[32m━━━━━━━━━━━━━━━━━━━━\u001b[0m\u001b[37m\u001b[0m \u001b[1m7s\u001b[0m 4ms/step - accuracy: 0.1015 - loss: 2.3027 - val_accuracy: 0.1000 - val_loss: 2.3026\n",
      "Epoch 6/10\n",
      "\u001b[1m1875/1875\u001b[0m \u001b[32m━━━━━━━━━━━━━━━━━━━━\u001b[0m\u001b[37m\u001b[0m \u001b[1m7s\u001b[0m 4ms/step - accuracy: 0.0994 - loss: 2.3027 - val_accuracy: 0.1000 - val_loss: 2.3026\n",
      "Epoch 7/10\n",
      "\u001b[1m1875/1875\u001b[0m \u001b[32m━━━━━━━━━━━━━━━━━━━━\u001b[0m\u001b[37m\u001b[0m \u001b[1m7s\u001b[0m 4ms/step - accuracy: 0.0972 - loss: 2.3028 - val_accuracy: 0.1000 - val_loss: 2.3027\n",
      "Epoch 8/10\n",
      "\u001b[1m1875/1875\u001b[0m \u001b[32m━━━━━━━━━━━━━━━━━━━━\u001b[0m\u001b[37m\u001b[0m \u001b[1m7s\u001b[0m 4ms/step - accuracy: 0.1005 - loss: 2.3028 - val_accuracy: 0.1000 - val_loss: 2.3026\n",
      "Epoch 9/10\n",
      "\u001b[1m1875/1875\u001b[0m \u001b[32m━━━━━━━━━━━━━━━━━━━━\u001b[0m\u001b[37m\u001b[0m \u001b[1m7s\u001b[0m 4ms/step - accuracy: 0.1003 - loss: 2.3028 - val_accuracy: 0.1000 - val_loss: 2.3026\n",
      "Epoch 10/10\n",
      "\u001b[1m1875/1875\u001b[0m \u001b[32m━━━━━━━━━━━━━━━━━━━━\u001b[0m\u001b[37m\u001b[0m \u001b[1m7s\u001b[0m 4ms/step - accuracy: 0.0972 - loss: 2.3028 - val_accuracy: 0.1000 - val_loss: 2.3027\n"
     ]
    },
    {
     "data": {
      "text/plain": [
       "<keras.src.callbacks.history.History at 0x1c6535fee20>"
      ]
     },
     "execution_count": 129,
     "metadata": {},
     "output_type": "execute_result"
    }
   ],
   "source": [
    "# Compile the model with the correct loss function\n",
    "model.compile(optimizer='adam', \n",
    "              loss='sparse_categorical_crossentropy',  # Corrected loss function\n",
    "              metrics=['accuracy'])\n",
    "\n",
    "# Train the model\n",
    "model.fit(train_images, train_labels, validation_data=(test_images, test_labels), epochs=10)\n",
    "#the resons of spltting the data set in to test and train is getting quickly in the dataset beacause another duplicate data set getting trained and another getting tested"
   ]
  },
  {
   "cell_type": "code",
   "execution_count": 131,
   "id": "f23c436c",
   "metadata": {},
   "outputs": [
    {
     "name": "stdout",
     "output_type": "stream",
     "text": [
      "\u001b[1m313/313\u001b[0m \u001b[32m━━━━━━━━━━━━━━━━━━━━\u001b[0m\u001b[37m\u001b[0m \u001b[1m1s\u001b[0m 2ms/step - accuracy: 0.0978 - loss: 2.3030\n",
      "Test accuracy: 0.10000000149011612\n"
     ]
    }
   ],
   "source": [
    "test_loss, test_acc = model.evaluate(test_images, test_labels) # get the final accuracy for the test data\n",
    "\n",
    "print('Test accuracy:', test_acc)"
   ]
  },
  {
   "cell_type": "code",
   "execution_count": 153,
   "id": "8b153f65",
   "metadata": {},
   "outputs": [
    {
     "name": "stdout",
     "output_type": "stream",
     "text": [
      "\u001b[1m313/313\u001b[0m \u001b[32m━━━━━━━━━━━━━━━━━━━━\u001b[0m\u001b[37m\u001b[0m \u001b[1m1s\u001b[0m 2ms/step\n",
      "[0.09844445 0.10003894 0.09742384 0.10113392 0.09943414 0.10135067\n",
      " 0.10221093 0.10026281 0.09943074 0.10026958]\n",
      "Predicted label: 6\n",
      "Actual label: 9\n"
     ]
    }
   ],
   "source": [
    "import numpy as np\n",
    "\n",
    "# Make predictions on the test dataset\n",
    "predictions = model.predict(test_images)\n",
    "\n",
    "# Display the prediction for the first test image\n",
    "print(predictions[0])\n",
    "\n",
    "# To see the predicted class (the one with the highest probability)\n",
    "predicted_label = np.argmax(predictions[0])\n",
    "print(\"Predicted label:\", predicted_label)\n",
    "\n",
    "# To see the actual label\n",
    "print(\"Actual label:\", test_labels[0])\n"
   ]
  },
  {
   "cell_type": "code",
   "execution_count": 154,
   "id": "70112917",
   "metadata": {},
   "outputs": [
    {
     "data": {
      "text/plain": [
       "array([0.09844445, 0.10003894, 0.09742384, 0.10113392, 0.09943414,\n",
       "       0.10135067, 0.10221093, 0.10026281, 0.09943074, 0.10026958],\n",
       "      dtype=float32)"
      ]
     },
     "execution_count": 154,
     "metadata": {},
     "output_type": "execute_result"
    }
   ],
   "source": [
    "predictions[7] #output probabilities of 0th index"
   ]
  },
  {
   "cell_type": "code",
   "execution_count": 155,
   "id": "08857350",
   "metadata": {},
   "outputs": [
    {
     "data": {
      "text/plain": [
       "6"
      ]
     },
     "execution_count": 155,
     "metadata": {},
     "output_type": "execute_result"
    }
   ],
   "source": [
    "np.argmax(predictions[7]) #this i the large probability gettable image is (3)"
   ]
  },
  {
   "cell_type": "code",
   "execution_count": 156,
   "id": "413999f5",
   "metadata": {},
   "outputs": [
    {
     "data": {
      "text/plain": [
       "6"
      ]
     },
     "execution_count": 156,
     "metadata": {},
     "output_type": "execute_result"
    }
   ],
   "source": [
    "test_labels[7] # not getting same then this is in correct prediction"
   ]
  },
  {
   "cell_type": "code",
   "execution_count": null,
   "id": "9af1c426",
   "metadata": {},
   "outputs": [],
   "source": []
  }
 ],
 "metadata": {
  "kernelspec": {
   "display_name": "Python 3 (ipykernel)",
   "language": "python",
   "name": "python3"
  },
  "language_info": {
   "codemirror_mode": {
    "name": "ipython",
    "version": 3
   },
   "file_extension": ".py",
   "mimetype": "text/x-python",
   "name": "python",
   "nbconvert_exporter": "python",
   "pygments_lexer": "ipython3",
   "version": "3.9.13"
  }
 },
 "nbformat": 4,
 "nbformat_minor": 5
}
